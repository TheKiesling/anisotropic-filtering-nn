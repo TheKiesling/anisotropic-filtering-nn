{
 "cells": [
  {
   "cell_type": "markdown",
   "id": "32dff7ff",
   "metadata": {},
   "source": [
    "# Anisotropic Filtering Neural Network"
   ]
  },
  {
   "cell_type": "code",
   "execution_count": 1,
   "id": "3fc06c49",
   "metadata": {},
   "outputs": [],
   "source": [
    "import os\n",
    "import cv2 as cv\n",
    "\n",
    "from anisotropic import anisodiff"
   ]
  },
  {
   "cell_type": "markdown",
   "id": "c37129e9",
   "metadata": {},
   "source": [
    "### Create the filtered images that will be used to train the neural network as the expected output."
   ]
  },
  {
   "cell_type": "code",
   "execution_count": 2,
   "id": "41860a49",
   "metadata": {},
   "outputs": [],
   "source": [
    "def convert_to_grayscale(image):\n",
    "    return cv.cvtColor(image, cv.COLOR_BGR2GRAY)"
   ]
  },
  {
   "cell_type": "code",
   "execution_count": 3,
   "id": "164a2a8f",
   "metadata": {},
   "outputs": [],
   "source": [
    "def apply_anisotropic_diffusion(image, niter=50, kappa=20, gamma=0.2, step=(1., 1.), option=1, ploton=False):\n",
    "    return anisodiff(image, niter=niter, kappa=kappa, gamma=gamma, step=step, option=option, ploton=ploton)"
   ]
  },
  {
   "cell_type": "code",
   "execution_count": 4,
   "id": "72496e29",
   "metadata": {},
   "outputs": [],
   "source": [
    "original_images_path = \"data/original/\"\n",
    "filtered_images_path = \"data/filtered/\""
   ]
  },
  {
   "cell_type": "code",
   "execution_count": 5,
   "id": "9a575af7",
   "metadata": {},
   "outputs": [],
   "source": [
    "if not os.path.exists(filtered_images_path):\n",
    "    os.makedirs(filtered_images_path)"
   ]
  },
  {
   "cell_type": "code",
   "execution_count": 6,
   "id": "5c73617a",
   "metadata": {},
   "outputs": [],
   "source": [
    "original_images = [image for image in os.listdir(original_images_path)]"
   ]
  },
  {
   "cell_type": "code",
   "execution_count": 7,
   "id": "34b753c1",
   "metadata": {},
   "outputs": [],
   "source": [
    "for image in original_images:\n",
    "    image_path = os.path.join(original_images_path, image)\n",
    "    image_filtered_path = os.path.join(filtered_images_path, image)\n",
    "    \n",
    "    if os.path.exists(image_filtered_path):\n",
    "        continue\n",
    "    \n",
    "    image = cv.imread(image_path)\n",
    "    gray_image = convert_to_grayscale(image)\n",
    "    image_filtered = apply_anisotropic_diffusion(gray_image)\n",
    "    \n",
    "    cv.imwrite(image_filtered_path, image_filtered)"
   ]
  }
 ],
 "metadata": {
  "kernelspec": {
   "display_name": "tensorflowpy310",
   "language": "python",
   "name": "python3"
  },
  "language_info": {
   "codemirror_mode": {
    "name": "ipython",
    "version": 3
   },
   "file_extension": ".py",
   "mimetype": "text/x-python",
   "name": "python",
   "nbconvert_exporter": "python",
   "pygments_lexer": "ipython3",
   "version": "3.10.14"
  }
 },
 "nbformat": 4,
 "nbformat_minor": 5
}
