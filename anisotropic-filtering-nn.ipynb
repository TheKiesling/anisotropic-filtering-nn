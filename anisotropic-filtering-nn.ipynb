{
 "cells": [
  {
   "cell_type": "markdown",
   "id": "32dff7ff",
   "metadata": {},
   "source": [
    "# Anisotropic Filtering Neural Network"
   ]
  },
  {
   "cell_type": "code",
   "execution_count": 1,
   "id": "3fc06c49",
   "metadata": {},
   "outputs": [],
   "source": [
    "import os\n",
    "import random\n",
    "import numpy as np\n",
    "\n",
    "from concurrent.futures import ThreadPoolExecutor\n",
    "\n",
    "import cv2 as cv\n",
    "\n",
    "import tensorflow as tf\n",
    "from tensorflow.keras.layers import Conv2D, MaxPooling2D, Dropout, UpSampling2D, Concatenate, Input\n",
    "from tensorflow.keras.models import Model\n",
    "from tensorflow.keras.callbacks import EarlyStopping, ReduceLROnPlateau\n",
    "\n",
    "from anisotropic import anisodiff"
   ]
  },
  {
   "cell_type": "markdown",
   "id": "c37129e9",
   "metadata": {},
   "source": [
    "### Create the filtered images that will be used to train the neural network as the expected output."
   ]
  },
  {
   "cell_type": "code",
   "execution_count": 2,
   "id": "41860a49",
   "metadata": {},
   "outputs": [],
   "source": [
    "def convert_to_grayscale(image):\n",
    "    return cv.cvtColor(image, cv.COLOR_BGR2GRAY)"
   ]
  },
  {
   "cell_type": "code",
   "execution_count": 3,
   "id": "164a2a8f",
   "metadata": {},
   "outputs": [],
   "source": [
    "def apply_anisotropic_diffusion(image, \n",
    "                                niter=50, \n",
    "                                kappa=20, \n",
    "                                gamma=0.2, \n",
    "                                step=(1., 1.), \n",
    "                                option=1, \n",
    "                                ploton=False):\n",
    "    return anisodiff(image, \n",
    "                     niter=niter, \n",
    "                     kappa=kappa, \n",
    "                     gamma=gamma, \n",
    "                     step=step, \n",
    "                     option=option, \n",
    "                     ploton=ploton)"
   ]
  },
  {
   "cell_type": "code",
   "execution_count": 4,
   "id": "72496e29",
   "metadata": {},
   "outputs": [],
   "source": [
    "original_images_path = \"data/original/\"\n",
    "filtered_images_path = \"data/filtered/\""
   ]
  },
  {
   "cell_type": "code",
   "execution_count": 5,
   "id": "9a575af7",
   "metadata": {},
   "outputs": [],
   "source": [
    "if not os.path.exists(filtered_images_path):\n",
    "    os.makedirs(filtered_images_path)"
   ]
  },
  {
   "cell_type": "code",
   "execution_count": 6,
   "id": "5c73617a",
   "metadata": {},
   "outputs": [],
   "source": [
    "original_images = [image for image in os.listdir(original_images_path)]"
   ]
  },
  {
   "cell_type": "code",
   "execution_count": 7,
   "id": "34b753c1",
   "metadata": {},
   "outputs": [],
   "source": [
    "for image in original_images:\n",
    "    image_path = os.path.join(original_images_path, image)\n",
    "    image_filtered_path = os.path.join(filtered_images_path, image)\n",
    "    \n",
    "    if os.path.exists(image_filtered_path):\n",
    "        continue\n",
    "    \n",
    "    image = cv.imread(image_path)\n",
    "    gray_image = convert_to_grayscale(image)\n",
    "    image_filtered = apply_anisotropic_diffusion(gray_image)\n",
    "    \n",
    "    cv.imwrite(image_filtered_path, image_filtered)"
   ]
  },
  {
   "cell_type": "markdown",
   "id": "47f96d82",
   "metadata": {},
   "source": [
    "### Create windows for the neural network to learn from."
   ]
  },
  {
   "cell_type": "code",
   "execution_count": 8,
   "id": "4e5f678d",
   "metadata": {},
   "outputs": [],
   "source": [
    "window_size = 32"
   ]
  },
  {
   "cell_type": "code",
   "execution_count": 9,
   "id": "4a4691e4",
   "metadata": {},
   "outputs": [],
   "source": [
    "def load_image(filename):\n",
    "    image_x = cv.imread(os.path.join(original_images_path, filename), \n",
    "                        cv.IMREAD_COLOR)\n",
    "    image_x = convert_to_grayscale(image_x)\n",
    "    image_y = cv.imread(os.path.join(filtered_images_path, filename), \n",
    "                        cv.IMREAD_GRAYSCALE)\n",
    "    \n",
    "    return image_x, image_y"
   ]
  },
  {
   "cell_type": "code",
   "execution_count": 10,
   "id": "ab21df3a",
   "metadata": {},
   "outputs": [],
   "source": [
    "with ThreadPoolExecutor(max_workers=10) as exe:\n",
    "    images = list(exe.map(load_image, original_images))"
   ]
  },
  {
   "cell_type": "code",
   "execution_count": 11,
   "id": "ab050c57",
   "metadata": {},
   "outputs": [],
   "source": [
    "def create_window_set():\n",
    "    image = random.randrange(len(images))\n",
    "    image_x, image_y = images[image]\n",
    "\n",
    "    h, w = image_x.shape[:2]\n",
    "\n",
    "    y = random.randrange(0, h - window_size)\n",
    "    x = random.randrange(0, w - window_size)\n",
    "\n",
    "    return (image_x[y:y+window_size, x:x+window_size].copy(),\n",
    "            image_y[y:y+window_size, x:x+window_size].copy())"
   ]
  },
  {
   "cell_type": "code",
   "execution_count": 12,
   "id": "b5faa968",
   "metadata": {},
   "outputs": [],
   "source": [
    "N = 250000"
   ]
  },
  {
   "cell_type": "code",
   "execution_count": 13,
   "id": "1ce9101b",
   "metadata": {},
   "outputs": [],
   "source": [
    "train_data = []"
   ]
  },
  {
   "cell_type": "code",
   "execution_count": 14,
   "id": "d3e49d28",
   "metadata": {},
   "outputs": [],
   "source": [
    "for i in range(N):\n",
    "    image_x, image_y = create_window_set()\n",
    "    \n",
    "    train_data.append((image_x, image_y))"
   ]
  },
  {
   "cell_type": "markdown",
   "id": "9670de0c",
   "metadata": {},
   "source": [
    "### Neural Network Architecture"
   ]
  },
  {
   "cell_type": "code",
   "execution_count": 15,
   "id": "0d067f8f",
   "metadata": {},
   "outputs": [],
   "source": [
    "def DownBlock(X, filters, dropout_rate=0., module_name=None):\n",
    "    X = Conv2D(filters, (3, 3), activation='relu', padding='same', name=f'{module_name}_conv1')(X)\n",
    "    X = Conv2D(filters, (3, 3), activation='relu', padding='same', name=f'{module_name}_conv2')(X)\n",
    "    X = MaxPooling2D((2, 2), name=f'{module_name}_pool')(X)\n",
    "    X = Dropout(dropout_rate, name=f'{module_name}_dropout')(X)\n",
    "    return X"
   ]
  },
  {
   "cell_type": "code",
   "execution_count": 16,
   "id": "f1d4692d",
   "metadata": {},
   "outputs": [],
   "source": [
    "def UpBlock(X, Y, filters, dropout_rate=0., module_name=None):\n",
    "    X = UpSampling2D((2, 2), interpolation='bilinear', name=f'{module_name}_upsample')(X)\n",
    "    X = Concatenate(name=f'{module_name}_concat')([X, Y])\n",
    "    X = Conv2D(filters, (3, 3), activation='relu', padding='same', name=f'{module_name}_conv1')(X)\n",
    "    X = Conv2D(filters, (3, 3), activation='relu', padding='same', name=f'{module_name}_conv2')(X)\n",
    "    X = Dropout(dropout_rate, name=f'{module_name}_dropout')(X)\n",
    "    return X    "
   ]
  },
  {
   "cell_type": "code",
   "execution_count": 17,
   "id": "eb349325",
   "metadata": {},
   "outputs": [],
   "source": [
    "def Unet(input_shape, filters=16, dropout_rate=0.):  \n",
    "    X0 = Input(shape=input_shape, name='input_layer')\n",
    "    \n",
    "    X1 = DownBlock(X0, filters, dropout_rate, module_name='down_block1')\n",
    "    X2 = DownBlock(X1, filters * 2, dropout_rate, module_name='down_block2')\n",
    "    X3 = DownBlock(X2, filters * 4, dropout_rate, module_name='down_block3')\n",
    "    X4 = DownBlock(X3, filters * 8, dropout_rate, module_name='down_block4')\n",
    "\n",
    "    Y3 = UpBlock(X4, X3, filters * 8, dropout_rate, module_name='up_block3')\n",
    "    Y2 = UpBlock(Y3, X2, filters * 4, dropout_rate, module_name='up_block2')\n",
    "    Y1 = UpBlock(Y2, X1, filters * 2, dropout_rate, module_name='up_block1')\n",
    "    Y0 = UpBlock(Y1, X0, filters, dropout_rate, module_name='up_block0')\n",
    "    \n",
    "    Z = Conv2D(1, (1, 1), activation='relu', padding='same', name='output_layer')(Y0)\n",
    "    model = Model(inputs=X0, outputs=Z, name='Unet')\n",
    "    \n",
    "    return model"
   ]
  },
  {
   "cell_type": "code",
   "execution_count": 18,
   "id": "b5360baa",
   "metadata": {},
   "outputs": [
    {
     "name": "stdout",
     "output_type": "stream",
     "text": [
      "Model: \"Unet\"\n",
      "__________________________________________________________________________________________________\n",
      " Layer (type)                   Output Shape         Param #     Connected to                     \n",
      "==================================================================================================\n",
      " input_layer (InputLayer)       [(None, 32, 32, 1)]  0           []                               \n",
      "                                                                                                  \n",
      " down_block1_conv1 (Conv2D)     (None, 32, 32, 16)   160         ['input_layer[0][0]']            \n",
      "                                                                                                  \n",
      " down_block1_conv2 (Conv2D)     (None, 32, 32, 16)   2320        ['down_block1_conv1[0][0]']      \n",
      "                                                                                                  \n",
      " down_block1_pool (MaxPooling2D  (None, 16, 16, 16)  0           ['down_block1_conv2[0][0]']      \n",
      " )                                                                                                \n",
      "                                                                                                  \n",
      " down_block1_dropout (Dropout)  (None, 16, 16, 16)   0           ['down_block1_pool[0][0]']       \n",
      "                                                                                                  \n",
      " down_block2_conv1 (Conv2D)     (None, 16, 16, 32)   4640        ['down_block1_dropout[0][0]']    \n",
      "                                                                                                  \n",
      " down_block2_conv2 (Conv2D)     (None, 16, 16, 32)   9248        ['down_block2_conv1[0][0]']      \n",
      "                                                                                                  \n",
      " down_block2_pool (MaxPooling2D  (None, 8, 8, 32)    0           ['down_block2_conv2[0][0]']      \n",
      " )                                                                                                \n",
      "                                                                                                  \n",
      " down_block2_dropout (Dropout)  (None, 8, 8, 32)     0           ['down_block2_pool[0][0]']       \n",
      "                                                                                                  \n",
      " down_block3_conv1 (Conv2D)     (None, 8, 8, 64)     18496       ['down_block2_dropout[0][0]']    \n",
      "                                                                                                  \n",
      " down_block3_conv2 (Conv2D)     (None, 8, 8, 64)     36928       ['down_block3_conv1[0][0]']      \n",
      "                                                                                                  \n",
      " down_block3_pool (MaxPooling2D  (None, 4, 4, 64)    0           ['down_block3_conv2[0][0]']      \n",
      " )                                                                                                \n",
      "                                                                                                  \n",
      " down_block3_dropout (Dropout)  (None, 4, 4, 64)     0           ['down_block3_pool[0][0]']       \n",
      "                                                                                                  \n",
      " down_block4_conv1 (Conv2D)     (None, 4, 4, 128)    73856       ['down_block3_dropout[0][0]']    \n",
      "                                                                                                  \n",
      " down_block4_conv2 (Conv2D)     (None, 4, 4, 128)    147584      ['down_block4_conv1[0][0]']      \n",
      "                                                                                                  \n",
      " down_block4_pool (MaxPooling2D  (None, 2, 2, 128)   0           ['down_block4_conv2[0][0]']      \n",
      " )                                                                                                \n",
      "                                                                                                  \n",
      " down_block4_dropout (Dropout)  (None, 2, 2, 128)    0           ['down_block4_pool[0][0]']       \n",
      "                                                                                                  \n",
      " up_block3_upsample (UpSampling  (None, 4, 4, 128)   0           ['down_block4_dropout[0][0]']    \n",
      " 2D)                                                                                              \n",
      "                                                                                                  \n",
      " up_block3_concat (Concatenate)  (None, 4, 4, 192)   0           ['up_block3_upsample[0][0]',     \n",
      "                                                                  'down_block3_dropout[0][0]']    \n",
      "                                                                                                  \n",
      " up_block3_conv1 (Conv2D)       (None, 4, 4, 128)    221312      ['up_block3_concat[0][0]']       \n",
      "                                                                                                  \n",
      " up_block3_conv2 (Conv2D)       (None, 4, 4, 128)    147584      ['up_block3_conv1[0][0]']        \n",
      "                                                                                                  \n",
      " up_block3_dropout (Dropout)    (None, 4, 4, 128)    0           ['up_block3_conv2[0][0]']        \n",
      "                                                                                                  \n",
      " up_block2_upsample (UpSampling  (None, 8, 8, 128)   0           ['up_block3_dropout[0][0]']      \n",
      " 2D)                                                                                              \n",
      "                                                                                                  \n",
      " up_block2_concat (Concatenate)  (None, 8, 8, 160)   0           ['up_block2_upsample[0][0]',     \n",
      "                                                                  'down_block2_dropout[0][0]']    \n",
      "                                                                                                  \n",
      " up_block2_conv1 (Conv2D)       (None, 8, 8, 64)     92224       ['up_block2_concat[0][0]']       \n",
      "                                                                                                  \n",
      " up_block2_conv2 (Conv2D)       (None, 8, 8, 64)     36928       ['up_block2_conv1[0][0]']        \n",
      "                                                                                                  \n",
      " up_block2_dropout (Dropout)    (None, 8, 8, 64)     0           ['up_block2_conv2[0][0]']        \n",
      "                                                                                                  \n",
      " up_block1_upsample (UpSampling  (None, 16, 16, 64)  0           ['up_block2_dropout[0][0]']      \n",
      " 2D)                                                                                              \n",
      "                                                                                                  \n",
      " up_block1_concat (Concatenate)  (None, 16, 16, 80)  0           ['up_block1_upsample[0][0]',     \n",
      "                                                                  'down_block1_dropout[0][0]']    \n",
      "                                                                                                  \n",
      " up_block1_conv1 (Conv2D)       (None, 16, 16, 32)   23072       ['up_block1_concat[0][0]']       \n",
      "                                                                                                  \n",
      " up_block1_conv2 (Conv2D)       (None, 16, 16, 32)   9248        ['up_block1_conv1[0][0]']        \n",
      "                                                                                                  \n",
      " up_block1_dropout (Dropout)    (None, 16, 16, 32)   0           ['up_block1_conv2[0][0]']        \n",
      "                                                                                                  \n",
      " up_block0_upsample (UpSampling  (None, 32, 32, 32)  0           ['up_block1_dropout[0][0]']      \n",
      " 2D)                                                                                              \n",
      "                                                                                                  \n",
      " up_block0_concat (Concatenate)  (None, 32, 32, 33)  0           ['up_block0_upsample[0][0]',     \n",
      "                                                                  'input_layer[0][0]']            \n",
      "                                                                                                  \n",
      " up_block0_conv1 (Conv2D)       (None, 32, 32, 16)   4768        ['up_block0_concat[0][0]']       \n",
      "                                                                                                  \n",
      " up_block0_conv2 (Conv2D)       (None, 32, 32, 16)   2320        ['up_block0_conv1[0][0]']        \n",
      "                                                                                                  \n",
      " up_block0_dropout (Dropout)    (None, 32, 32, 16)   0           ['up_block0_conv2[0][0]']        \n",
      "                                                                                                  \n",
      " output_layer (Conv2D)          (None, 32, 32, 1)    17          ['up_block0_dropout[0][0]']      \n",
      "                                                                                                  \n",
      "==================================================================================================\n",
      "Total params: 830,705\n",
      "Trainable params: 830,705\n",
      "Non-trainable params: 0\n",
      "__________________________________________________________________________________________________\n"
     ]
    }
   ],
   "source": [
    "model = Unet(input_shape=(window_size, window_size, 1), filters=16, dropout_rate=0.2)\n",
    "model.summary()"
   ]
  },
  {
   "cell_type": "markdown",
   "id": "7eb8bfb8",
   "metadata": {},
   "source": [
    "### Neural Network Training"
   ]
  },
  {
   "cell_type": "code",
   "execution_count": 19,
   "id": "accc71b5",
   "metadata": {},
   "outputs": [
    {
     "name": "stdout",
     "output_type": "stream",
     "text": [
      "Physical devices cannot be modified after being initialized\n"
     ]
    }
   ],
   "source": [
    "gpus = tf.config.experimental.list_physical_devices('GPU')\n",
    "if gpus:\n",
    "    try:\n",
    "        for gpu in gpus:\n",
    "            tf.config.experimental.set_memory_growth(gpu, True)\n",
    "    except RuntimeError as e:\n",
    "        print(e)"
   ]
  },
  {
   "cell_type": "code",
   "execution_count": 20,
   "id": "27daf97a",
   "metadata": {},
   "outputs": [
    {
     "name": "stdout",
     "output_type": "stream",
     "text": [
      "Num GPUs Available:  1\n"
     ]
    }
   ],
   "source": [
    "print(\"Num GPUs Available: \", len(tf.config.list_physical_devices('GPU')))\n",
    "tf.debugging.set_log_device_placement(True)"
   ]
  },
  {
   "cell_type": "code",
   "execution_count": 21,
   "id": "43d8ee38",
   "metadata": {},
   "outputs": [],
   "source": [
    "X = np.stack([xy[0] for xy in train_data]).astype(\"float32\")\n",
    "Y = np.stack([xy[1] for xy in train_data]).astype(\"float32\") "
   ]
  },
  {
   "cell_type": "code",
   "execution_count": 22,
   "id": "dcd098a5",
   "metadata": {},
   "outputs": [],
   "source": [
    "X /= 255.0\n",
    "Y /= 255.0"
   ]
  },
  {
   "cell_type": "code",
   "execution_count": 23,
   "id": "42e7726d",
   "metadata": {},
   "outputs": [],
   "source": [
    "X = np.expand_dims(X, axis=-1)\n",
    "Y = np.expand_dims(Y, axis=-1)"
   ]
  },
  {
   "cell_type": "code",
   "execution_count": 24,
   "id": "75c54a6c",
   "metadata": {},
   "outputs": [],
   "source": [
    "callbacks = [\n",
    "    EarlyStopping(patience=10, restore_best_weights=True),\n",
    "    ReduceLROnPlateau(factor=0.5, patience=5)\n",
    "]"
   ]
  },
  {
   "cell_type": "code",
   "execution_count": 25,
   "id": "f6d1e014",
   "metadata": {},
   "outputs": [],
   "source": [
    "model.compile(optimizer='adam',\n",
    "              loss='mean_squared_error',\n",
    "              metrics=['mae'])"
   ]
  },
  {
   "cell_type": "code",
   "execution_count": 26,
   "id": "15ec45dc",
   "metadata": {},
   "outputs": [
    {
     "name": "stdout",
     "output_type": "stream",
     "text": [
      "Epoch 1/10\n",
      "25000/25000 [==============================] - 376s 15ms/step - loss: 0.0022 - mae: 0.0320 - val_loss: 5.8651e-04 - val_mae: 0.0149 - lr: 0.0010\n",
      "Epoch 2/10\n",
      "25000/25000 [==============================] - 367s 15ms/step - loss: 0.0020 - mae: 0.0302 - val_loss: 5.4091e-04 - val_mae: 0.0141 - lr: 0.0010\n",
      "Epoch 3/10\n",
      "25000/25000 [==============================] - 367s 15ms/step - loss: 0.0019 - mae: 0.0300 - val_loss: 5.4002e-04 - val_mae: 0.0144 - lr: 0.0010\n",
      "Epoch 4/10\n",
      "25000/25000 [==============================] - 355s 14ms/step - loss: 0.0019 - mae: 0.0299 - val_loss: 4.9491e-04 - val_mae: 0.0125 - lr: 0.0010\n",
      "Epoch 5/10\n",
      "25000/25000 [==============================] - 364s 15ms/step - loss: 0.0019 - mae: 0.0298 - val_loss: 5.0719e-04 - val_mae: 0.0133 - lr: 0.0010\n",
      "Epoch 6/10\n",
      "25000/25000 [==============================] - 354s 14ms/step - loss: 0.0019 - mae: 0.0298 - val_loss: 4.9815e-04 - val_mae: 0.0128 - lr: 0.0010\n",
      "Epoch 7/10\n",
      "25000/25000 [==============================] - 364s 15ms/step - loss: 0.0019 - mae: 0.0295 - val_loss: 4.8408e-04 - val_mae: 0.0129 - lr: 5.0000e-04\n",
      "Epoch 8/10\n",
      "25000/25000 [==============================] - 353s 14ms/step - loss: 0.0019 - mae: 0.0295 - val_loss: 4.8533e-04 - val_mae: 0.0132 - lr: 5.0000e-04\n",
      "Epoch 9/10\n",
      "25000/25000 [==============================] - 360s 14ms/step - loss: 0.0019 - mae: 0.0295 - val_loss: 4.8499e-04 - val_mae: 0.0130 - lr: 5.0000e-04\n",
      "Epoch 10/10\n",
      "25000/25000 [==============================] - 350s 14ms/step - loss: 0.0019 - mae: 0.0295 - val_loss: 5.2468e-04 - val_mae: 0.0140 - lr: 5.0000e-04\n"
     ]
    }
   ],
   "source": [
    "history = model.fit(\n",
    "    X, Y,\n",
    "    batch_size=8,\n",
    "    epochs=10,\n",
    "    validation_split=0.20,\n",
    "    callbacks=callbacks\n",
    ")"
   ]
  },
  {
   "cell_type": "code",
   "execution_count": 29,
   "id": "eea1a179",
   "metadata": {},
   "outputs": [],
   "source": [
    "model.save('models/anisotropic_diffusion_unet.h5')"
   ]
  }
 ],
 "metadata": {
  "kernelspec": {
   "display_name": "tensorflowpy310",
   "language": "python",
   "name": "python3"
  },
  "language_info": {
   "codemirror_mode": {
    "name": "ipython",
    "version": 3
   },
   "file_extension": ".py",
   "mimetype": "text/x-python",
   "name": "python",
   "nbconvert_exporter": "python",
   "pygments_lexer": "ipython3",
   "version": "3.10.14"
  }
 },
 "nbformat": 4,
 "nbformat_minor": 5
}
