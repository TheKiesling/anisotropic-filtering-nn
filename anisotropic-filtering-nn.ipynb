{
 "cells": [
  {
   "cell_type": "markdown",
   "id": "32dff7ff",
   "metadata": {},
   "source": [
    "# Anisotropic Filtering Neural Network"
   ]
  },
  {
   "cell_type": "code",
   "execution_count": 1,
   "id": "3fc06c49",
   "metadata": {},
   "outputs": [],
   "source": [
    "import os\n",
    "import random\n",
    "\n",
    "import cv2 as cv\n",
    "\n",
    "from anisotropic import anisodiff"
   ]
  },
  {
   "cell_type": "markdown",
   "id": "c37129e9",
   "metadata": {},
   "source": [
    "### Create the filtered images that will be used to train the neural network as the expected output."
   ]
  },
  {
   "cell_type": "code",
   "execution_count": 2,
   "id": "41860a49",
   "metadata": {},
   "outputs": [],
   "source": [
    "def convert_to_grayscale(image):\n",
    "    return cv.cvtColor(image, cv.COLOR_BGR2GRAY)"
   ]
  },
  {
   "cell_type": "code",
   "execution_count": 3,
   "id": "164a2a8f",
   "metadata": {},
   "outputs": [],
   "source": [
    "def apply_anisotropic_diffusion(image, niter=50, kappa=20, gamma=0.2, step=(1., 1.), option=1, ploton=False):\n",
    "    return anisodiff(image, niter=niter, kappa=kappa, gamma=gamma, step=step, option=option, ploton=ploton)"
   ]
  },
  {
   "cell_type": "code",
   "execution_count": 4,
   "id": "72496e29",
   "metadata": {},
   "outputs": [],
   "source": [
    "original_images_path = \"data/original/\"\n",
    "filtered_images_path = \"data/filtered/\""
   ]
  },
  {
   "cell_type": "code",
   "execution_count": 5,
   "id": "9a575af7",
   "metadata": {},
   "outputs": [],
   "source": [
    "if not os.path.exists(filtered_images_path):\n",
    "    os.makedirs(filtered_images_path)"
   ]
  },
  {
   "cell_type": "code",
   "execution_count": 6,
   "id": "5c73617a",
   "metadata": {},
   "outputs": [],
   "source": [
    "original_images = [image for image in os.listdir(original_images_path)]"
   ]
  },
  {
   "cell_type": "code",
   "execution_count": 7,
   "id": "34b753c1",
   "metadata": {},
   "outputs": [],
   "source": [
    "for image in original_images:\n",
    "    image_path = os.path.join(original_images_path, image)\n",
    "    image_filtered_path = os.path.join(filtered_images_path, image)\n",
    "    \n",
    "    if os.path.exists(image_filtered_path):\n",
    "        continue\n",
    "    \n",
    "    image = cv.imread(image_path)\n",
    "    gray_image = convert_to_grayscale(image)\n",
    "    image_filtered = apply_anisotropic_diffusion(gray_image)\n",
    "    \n",
    "    cv.imwrite(image_filtered_path, image_filtered)"
   ]
  },
  {
   "cell_type": "markdown",
   "id": "47f96d82",
   "metadata": {},
   "source": [
    "### Create windows for the neural network to learn from."
   ]
  },
  {
   "cell_type": "code",
   "execution_count": 8,
   "id": "4e5f678d",
   "metadata": {},
   "outputs": [],
   "source": [
    "window_size = 64"
   ]
  },
  {
   "cell_type": "code",
   "execution_count": 9,
   "id": "65e7ff94",
   "metadata": {},
   "outputs": [],
   "source": [
    "def create_window_set():\n",
    "    image_name = random.choice(original_images).split(\"/\")[-1]\n",
    "    \n",
    "    image_x = cv.imread(os.path.join(original_images_path, image_name))\n",
    "    image_y = cv.imread(os.path.join(filtered_images_path, image_name))\n",
    "    \n",
    "    width, height = image_x.shape[1], image_x.shape[0]\n",
    "    \n",
    "    x_start = random.randint(0, width - window_size)\n",
    "    y_start = random.randint(0, height - window_size)\n",
    "    x_end = x_start + window_size\n",
    "    y_end = y_start + window_size\n",
    "    \n",
    "    image_x = image_x[y_start:y_end, x_start:x_end]\n",
    "    image_y = image_y[y_start:y_end, x_start:x_end]\n",
    "    \n",
    "    return image_x, image_y   "
   ]
  },
  {
   "cell_type": "code",
   "execution_count": null,
   "id": "b5faa968",
   "metadata": {},
   "outputs": [],
   "source": [
    "N = 500000"
   ]
  },
  {
   "cell_type": "code",
   "execution_count": 11,
   "id": "1ce9101b",
   "metadata": {},
   "outputs": [],
   "source": [
    "train_data = []"
   ]
  },
  {
   "cell_type": "code",
   "execution_count": 12,
   "id": "d3e49d28",
   "metadata": {},
   "outputs": [],
   "source": [
    "for i in range(N):\n",
    "    image_x, image_y = create_window_set()\n",
    "    \n",
    "    train_data.append((image_x, image_y))"
   ]
  }
 ],
 "metadata": {
  "kernelspec": {
   "display_name": "tensorflowpy310",
   "language": "python",
   "name": "python3"
  },
  "language_info": {
   "codemirror_mode": {
    "name": "ipython",
    "version": 3
   },
   "file_extension": ".py",
   "mimetype": "text/x-python",
   "name": "python",
   "nbconvert_exporter": "python",
   "pygments_lexer": "ipython3",
   "version": "3.10.14"
  }
 },
 "nbformat": 4,
 "nbformat_minor": 5
}
